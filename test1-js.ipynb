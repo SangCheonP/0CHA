version https://git-lfs.github.com/spec/v1
oid sha256:db60d24967a89790c180038100d5eb256b83bc130938f884fa65e21b509fde8d
size 1254
