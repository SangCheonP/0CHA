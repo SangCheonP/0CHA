version https://git-lfs.github.com/spec/v1
oid sha256:b141de64ef0b089a6c51a693da3f18d87ce154c79d9cb5cc2673f4cdc3df79fc
size 4921
